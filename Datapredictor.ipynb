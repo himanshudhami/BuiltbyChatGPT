{
  "nbformat": 4,
  "nbformat_minor": 0,
  "metadata": {
    "colab": {
      "provenance": [],
      "authorship_tag": "ABX9TyMlkd7t4mbk9D5SQ0tZ9pkY",
      "include_colab_link": true
    },
    "kernelspec": {
      "name": "python3",
      "display_name": "Python 3"
    },
    "language_info": {
      "name": "python"
    }
  },
  "cells": [
    {
      "cell_type": "markdown",
      "metadata": {
        "id": "view-in-github",
        "colab_type": "text"
      },
      "source": [
        "<a href=\"https://colab.research.google.com/github/himanshudhami/BuiltbyChatGPT/blob/main/Datapredictor.ipynb\" target=\"_parent\"><img src=\"https://colab.research.google.com/assets/colab-badge.svg\" alt=\"Open In Colab\"/></a>"
      ]
    },
    {
      "cell_type": "code",
      "source": [
        "import pandas as pd\n",
        "import random\n",
        "import string\n",
        "\n",
        "# Function to generate a random customer ID\n",
        "def random_customer_id():\n",
        "    return ''.join(random.choices(string.ascii_uppercase + string.digits, k=8))\n",
        "\n",
        "# Function to generate a random item ID\n",
        "def random_item_id():\n",
        "    return 'IT' + ''.join(random.choices(string.digits, k=6))\n",
        "\n",
        "# Function to generate a random price\n",
        "def random_price():\n",
        "    return round(random.uniform(1, 500), 2)\n",
        "\n",
        "# Generate the sample dataset\n",
        "data = []\n",
        "num_samples = 1000\n",
        "\n",
        "for _ in range(num_samples):\n",
        "    data.append({'value': random_customer_id(), 'type': 'customerid'})\n",
        "    data.append({'value': random_item_id(), 'type': 'itemid'})\n",
        "    data.append({'value': random_price(), 'type': 'price'})\n",
        "\n",
        "# Create a pandas DataFrame\n",
        "df = pd.DataFrame(data)\n",
        "\n",
        "# Shuffle the dataset\n",
        "df = df.sample(frac=1).reset_index(drop=True)\n",
        "\n",
        "# Save the dataset to a CSV file\n",
        "df.to_csv('sample_data.csv', index=False)\n",
        "\n",
        "print(df.head())\n"
      ],
      "metadata": {
        "colab": {
          "base_uri": "https://localhost:8080/"
        },
        "id": "yovoZI-K1agi",
        "outputId": "1203ebd6-039c-4dc7-d1d9-f8890d9fbe46"
      },
      "execution_count": 35,
      "outputs": [
        {
          "output_type": "stream",
          "name": "stdout",
          "text": [
            "      value        type\n",
            "0  IT886719      itemid\n",
            "1    355.41       price\n",
            "2    232.96       price\n",
            "3    238.34       price\n",
            "4  OXHFDXK3  customerid\n"
          ]
        }
      ]
    },
    {
      "cell_type": "code",
      "source": [
        "import pandas as pd\n",
        "import numpy as np\n",
        "\n",
        "# Load the dataset\n",
        "df = pd.read_csv('sample_data.csv')\n",
        "\n",
        "# Feature extraction function\n",
        "def extract_features(value):\n",
        "    # Check if the value is a number (float or integer)\n",
        "    is_number = 1 if isinstance(value, (int, float)) or str(value).replace(\".\", \"\", 1).isdigit() else 0\n",
        "    \n",
        "    # Check if the value has a decimal point\n",
        "    has_decimal_point = 1 if '.' in str(value) else 0\n",
        "    \n",
        "    # Check if the value starts with 'IT' (common itemid prefix in our sample data)\n",
        "    starts_with_it = 1 if str(value).startswith('IT') else 0\n",
        "    \n",
        "    # Compute the length of the value\n",
        "    length = len(str(value))\n",
        "    \n",
        "    return [is_number, has_decimal_point, starts_with_it, length]\n",
        "\n",
        "# Apply the feature extraction function to the dataset\n",
        "df['features'] = df['value'].apply(extract_features)\n",
        "\n",
        "# Convert the features column to a DataFrame and merge it with the original dataset\n",
        "features_df = pd.DataFrame(df['features'].tolist(), columns=['is_number', 'has_decimal_point', 'starts_with_it', 'length'])\n",
        "df = pd.concat([df, features_df], axis=1)\n",
        "\n",
        "# Drop the original value and features columns\n",
        "df.drop(['value', 'features'], axis=1, inplace=True)\n",
        "df.to_csv('sample_data_with_features.csv', index=False)\n",
        "print(df.head())\n"
      ],
      "metadata": {
        "colab": {
          "base_uri": "https://localhost:8080/"
        },
        "id": "NNWZ8Ykb14HG",
        "outputId": "facc7471-c3b3-4aad-f5d9-377ff7fe7205"
      },
      "execution_count": 37,
      "outputs": [
        {
          "output_type": "stream",
          "name": "stdout",
          "text": [
            "         type  is_number  has_decimal_point  starts_with_it  length\n",
            "0      itemid          0                  0               1       8\n",
            "1       price          1                  1               0       6\n",
            "2       price          1                  1               0       6\n",
            "3       price          1                  1               0       6\n",
            "4  customerid          0                  0               0       8\n"
          ]
        }
      ]
    },
    {
      "cell_type": "code",
      "source": [
        "import pandas as pd\n",
        "from sklearn.model_selection import train_test_split\n",
        "\n",
        "# Load the dataset\n",
        "df = pd.read_csv('sample_data_with_features.csv')\n",
        "\n",
        "# Separate features (X) and labels (y)\n",
        "X = df.drop('type', axis=1)\n",
        "y = df['type']\n",
        "\n",
        "# Split the dataset into training, validation, and testing sets\n",
        "X_train, X_temp, y_train, y_temp = train_test_split(X, y, test_size=0.3, random_state=42)\n",
        "X_val, X_test, y_val, y_test = train_test_split(X_temp, y_temp, test_size=0.5, random_state=42)\n",
        "\n",
        "# Save the training, validation, and testing sets to CSV files\n",
        "train_data = pd.concat([X_train, y_train], axis=1)\n",
        "val_data = pd.concat([X_val, y_val], axis=1)\n",
        "test_data = pd.concat([X_test, y_test], axis=1)\n",
        "\n",
        "train_data.to_csv('train_data.csv', index=False)\n",
        "val_data.to_csv('val_data.csv', index=False)\n",
        "test_data.to_csv('test_data.csv', index=False)\n",
        "\n",
        "print(\"Training data shape:\", train_data.shape)\n",
        "print(\"Validation data shape:\", val_data.shape)\n",
        "print(\"Testing data shape:\", test_data.shape)\n"
      ],
      "metadata": {
        "colab": {
          "base_uri": "https://localhost:8080/"
        },
        "id": "EKiZ9M2b2XwM",
        "outputId": "d478c829-4d69-46ba-c5ab-7df98676f22a"
      },
      "execution_count": 38,
      "outputs": [
        {
          "output_type": "stream",
          "name": "stdout",
          "text": [
            "Training data shape: (2100, 5)\n",
            "Validation data shape: (450, 5)\n",
            "Testing data shape: (450, 5)\n"
          ]
        }
      ]
    },
    {
      "cell_type": "code",
      "source": [
        "import pandas as pd\n",
        "from sklearn.ensemble import RandomForestClassifier\n",
        "from sklearn.metrics import classification_report, accuracy_score\n",
        "\n",
        "# Load training and validation data\n",
        "train_data = pd.read_csv('train_data.csv')\n",
        "val_data = pd.read_csv('val_data.csv')\n",
        "\n",
        "# Separate features (X) and labels (y)\n",
        "X_train = train_data.drop('type', axis=1)\n",
        "y_train = train_data['type']\n",
        "X_val = val_data.drop('type', axis=1)\n",
        "y_val = val_data['type']\n",
        "\n",
        "# Create and train the Random Forest classifier\n",
        "clf = RandomForestClassifier(random_state=42)\n",
        "clf.fit(X_train, y_train)\n",
        "\n",
        "# Make predictions on the validation dataset\n",
        "y_val_pred = clf.predict(X_val)\n",
        "\n",
        "# Evaluate the classifier's performance\n",
        "print(\"Accuracy on validation data:\", accuracy_score(y_val, y_val_pred))\n",
        "print(\"\\nClassification report:\\n\", classification_report(y_val, y_val_pred))\n"
      ],
      "metadata": {
        "colab": {
          "base_uri": "https://localhost:8080/"
        },
        "id": "b6WWlXp22rZ_",
        "outputId": "969dcd4c-6ee6-4010-eca4-f2a49b0aefc9"
      },
      "execution_count": 39,
      "outputs": [
        {
          "output_type": "stream",
          "name": "stdout",
          "text": [
            "Accuracy on validation data: 1.0\n",
            "\n",
            "Classification report:\n",
            "               precision    recall  f1-score   support\n",
            "\n",
            "  customerid       1.00      1.00      1.00       136\n",
            "      itemid       1.00      1.00      1.00       163\n",
            "       price       1.00      1.00      1.00       151\n",
            "\n",
            "    accuracy                           1.00       450\n",
            "   macro avg       1.00      1.00      1.00       450\n",
            "weighted avg       1.00      1.00      1.00       450\n",
            "\n"
          ]
        }
      ]
    },
    {
      "cell_type": "code",
      "source": [
        "import pandas as pd\n",
        "import numpy as np\n",
        "from sklearn.ensemble import RandomForestClassifier\n",
        "from sklearn.model_selection import RandomizedSearchCV\n",
        "\n",
        "# Load training and validation data\n",
        "train_data = pd.read_csv('train_data.csv')\n",
        "val_data = pd.read_csv('val_data.csv')\n",
        "\n",
        "# Separate features (X) and labels (y)\n",
        "X_train = train_data.drop('type', axis=1)\n",
        "y_train = train_data['type']\n",
        "X_val = val_data.drop('type', axis=1)\n",
        "y_val = val_data['type']\n",
        "\n",
        "# Define the hyperparameter search space\n",
        "param_dist = {\n",
        "    'n_estimators': [10, 50, 100, 200, 300, 500],\n",
        "    'max_depth': [None, 10, 20, 30, 40, 50],\n",
        "    'min_samples_split': [2, 5, 10],\n",
        "    'min_samples_leaf': [1, 2, 4],\n",
        "    'max_features': ['auto', 'sqrt', 'log2'],\n",
        "}\n",
        "\n",
        "# Create the Random Forest classifier\n",
        "clf = RandomForestClassifier(random_state=42)\n",
        "\n",
        "# Create the RandomizedSearchCV object\n",
        "random_search = RandomizedSearchCV(\n",
        "    clf, param_distributions=param_dist, n_iter=100, cv=5, verbose=2, random_state=42, n_jobs=-1\n",
        ")\n",
        "\n",
        "# Fit the RandomizedSearchCV object to the training data\n",
        "random_search.fit(X_train, y_train)\n",
        "\n",
        "# Print the best hyperparameters\n",
        "print(\"Best hyperparameters:\", random_search.best_params_)\n",
        "\n",
        "# Evaluate the best model on the validation dataset\n",
        "best_clf = random_search.best_estimator_\n",
        "y_val_pred = best_clf.predict(X_val)\n",
        "\n",
        "# Evaluate the classifier's performance\n",
        "print(\"Accuracy on validation data:\", accuracy_score(y_val, y_val_pred))\n",
        "print(\"\\nClassification report:\\n\", classification_report(y_val, y_val_pred))\n"
      ],
      "metadata": {
        "colab": {
          "base_uri": "https://localhost:8080/"
        },
        "id": "AQ9M6sLZ3YMF",
        "outputId": "1744df88-0518-4173-8b97-eeef75d1324e"
      },
      "execution_count": 41,
      "outputs": [
        {
          "output_type": "stream",
          "name": "stdout",
          "text": [
            "Fitting 5 folds for each of 100 candidates, totalling 500 fits\n",
            "Best hyperparameters: {'n_estimators': 500, 'min_samples_split': 5, 'min_samples_leaf': 1, 'max_features': 'log2', 'max_depth': 40}\n",
            "Accuracy on validation data: 1.0\n",
            "\n",
            "Classification report:\n",
            "               precision    recall  f1-score   support\n",
            "\n",
            "  customerid       1.00      1.00      1.00       136\n",
            "      itemid       1.00      1.00      1.00       163\n",
            "       price       1.00      1.00      1.00       151\n",
            "\n",
            "    accuracy                           1.00       450\n",
            "   macro avg       1.00      1.00      1.00       450\n",
            "weighted avg       1.00      1.00      1.00       450\n",
            "\n"
          ]
        }
      ]
    },
    {
      "cell_type": "code",
      "source": [
        "import pandas as pd\n",
        "from sklearn.metrics import classification_report, accuracy_score\n",
        "\n",
        "# Load testing data\n",
        "test_data = pd.read_csv('test_data.csv')\n",
        "\n",
        "# Separate features (X) and labels (y)\n",
        "X_test = test_data.drop('type', axis=1)\n",
        "y_test = test_data['type']\n",
        "\n",
        "# Assuming the best_clf variable contains the trained classifier with the best hyperparameters\n",
        "# Make predictions on the testing dataset\n",
        "y_test_pred = best_clf.predict(X_test)\n",
        "\n",
        "# Evaluate the classifier's performance\n",
        "print(\"Accuracy on testing data:\", accuracy_score(y_test, y_test_pred))\n",
        "print(\"\\nClassification report:\\n\", classification_report(y_test, y_test_pred))\n"
      ],
      "metadata": {
        "colab": {
          "base_uri": "https://localhost:8080/"
        },
        "id": "Lgu9NAgw4bc1",
        "outputId": "e858fcac-fcf4-41f6-f952-0faafc938b29"
      },
      "execution_count": 42,
      "outputs": [
        {
          "output_type": "stream",
          "name": "stdout",
          "text": [
            "Accuracy on testing data: 1.0\n",
            "\n",
            "Classification report:\n",
            "               precision    recall  f1-score   support\n",
            "\n",
            "  customerid       1.00      1.00      1.00       150\n",
            "      itemid       1.00      1.00      1.00       155\n",
            "       price       1.00      1.00      1.00       145\n",
            "\n",
            "    accuracy                           1.00       450\n",
            "   macro avg       1.00      1.00      1.00       450\n",
            "weighted avg       1.00      1.00      1.00       450\n",
            "\n"
          ]
        }
      ]
    },
    {
      "cell_type": "code",
      "source": [
        "# Feature extraction function (same as in Step 2)\n",
        "def extract_features(value):\n",
        "    is_number = 1 if isinstance(value, (int, float)) or str(value).replace(\".\", \"\", 1).isdigit() else 0\n",
        "    has_decimal_point = 1 if '.' in str(value) else 0\n",
        "    starts_with_it = 1 if str(value).startswith('IT') else 0\n",
        "    length = len(str(value))\n",
        "    return [is_number, has_decimal_point, starts_with_it, length]\n",
        "\n",
        "# Function to predict the type of a given value\n",
        "def predict_value_type(value, model):\n",
        "    # Extract features from the input value\n",
        "    features = extract_features(value)\n",
        "    \n",
        "    # Make a prediction using the trained model\n",
        "    prediction = model.predict([features])[0]\n",
        "    \n",
        "    return prediction\n",
        "\n",
        "# Example usage\n",
        "input_value = \"12.00\"\n",
        "value_type = predict_value_type(input_value, best_clf)\n",
        "print(\"The input value is of type:\", value_type)\n"
      ],
      "metadata": {
        "colab": {
          "base_uri": "https://localhost:8080/"
        },
        "id": "l4p8sL-147zp",
        "outputId": "d1d0daea-5169-4441-cfc6-cec519e48068"
      },
      "execution_count": 47,
      "outputs": [
        {
          "output_type": "stream",
          "name": "stdout",
          "text": [
            "The input value is of type: price\n"
          ]
        },
        {
          "output_type": "stream",
          "name": "stderr",
          "text": [
            "/usr/local/lib/python3.9/dist-packages/sklearn/base.py:439: UserWarning: X does not have valid feature names, but RandomForestClassifier was fitted with feature names\n",
            "  warnings.warn(\n"
          ]
        }
      ]
    }
  ]
}